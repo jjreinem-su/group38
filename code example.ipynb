{
 "cells": [
  {
   "cell_type": "code",
   "execution_count": 7,
   "metadata": {},
   "outputs": [
    {
     "name": "stdout",
     "output_type": "stream",
     "text": [
      "Please enter 'new assignment' or 'existing assignment' or 'quit': quit\n",
      "Thank you for using our program.\n",
      "['homework']\n",
      "[32.0]\n",
      "['math']\n"
     ]
    }
   ],
   "source": [
    "#enter a welcome thing\n",
    "import pandas as pd\n",
    "#try:\n",
    "\n",
    "path = input(\"Please enter 'new assignment' or 'existing assignment' or 'quit': \")\n",
    "if path == \"new assignment\":\n",
    "    subject_list = []\n",
    "    subject = input(\"please enter the subject: \")\n",
    "    subject_list.append(subject)\n",
    "    \n",
    "    assignment_list = []\n",
    "    assignment = input(\"Please enter the type of assignment: \")\n",
    "    assignment_list.append(assignment)\n",
    "    \n",
    "    time_list = []\n",
    "    time = float(input(\"Please enter the time the assignment took in hours ex: 1, 1.5, etc : \"))\n",
    "    time_list.append(time)\n",
    "    \n",
    "    grade_list = []\n",
    "    grade = input(\"Please enter what grade you received: \")\n",
    "    grade_list.append(grade)\n",
    "\n",
    "if path == \"existing assignment\":\n",
    "    \n",
    "\n",
    "    #if path == \"existing assignment\":\n",
    "if path == \"quit\":\n",
    "    print(\"Thank you for using our program.\")\n",
    "    \n",
    "    #except:\n",
    "        #value error\n",
    "        #type error\n"
   ]
  },
  {
   "cell_type": "markdown",
   "metadata": {},
   "source": [
    "time is going to be the last input for new assignments . asks to enter how long it took once youre done\n",
    "when you input existing assignment, prints out how long the assignment has taken before, and then asks how long it took this time,\n",
    "dataframe comparing the two. make cap sensitive"
   ]
  },
  {
   "cell_type": "code",
   "execution_count": null,
   "metadata": {},
   "outputs": [],
   "source": [
    "#enter a welcome thing\n",
    "import pandas as pd\n",
    "#try:\n",
    "\n",
    "path = input(\"Please enter 'new assignment' or 'existing assignment' or 'quit': \")\n",
    "if path == \"new assignment\":\n",
    "    subject_list = []\n",
    "    with open (assignment_file.txt, 'w') as file:\n",
    "        subject = input(\"please enter the subject: \").title\n",
    "        subject_list.append(subject)\n",
    "    with open (assignment_file.txt, 'w') as file:\n",
    "        assignment_list = []\n",
    "        assignment = input(\"Please enter the type of assignment: \")\n",
    "        assignment_list.append(assignment)\n",
    "    with open (assignment_file.txt, 'w') as file:\n",
    "        time_list = []\n",
    "        time = float(input(\"Please enter the time the assignment took in hours ex: 1, 1.5, etc : \"))\n",
    "        time_list.append(time)\n",
    "\n",
    "    #if path == \"existing assignment\":\n",
    "if path == \"quit\":\n",
    "    print(\"Thank you for using our program. Feel free to support our works or run the program again: venmo @joseph-reinemann.\")\n",
    "\n",
    "    #except:\n",
    "        #value error\n",
    "        #type error\n"
   ]
  },
  {
   "cell_type": "code",
   "execution_count": null,
   "metadata": {},
   "outputs": [],
   "source": [
    "import pandas as pd\n",
    "#try:\n",
    "\n",
    "path = input(\"Please enter 'new assignment' or 'existing assignment' or 'quit': \")\n",
    "if path == \"new assignment\":\n",
    "    subject_list = []\n",
    "    subject = input(\"please enter the subject: \")\n",
    "    subject_list.append(subject)\n",
    "    \n",
    "    assignment_list = []\n",
    "    assignment = input(\"Please enter the type of assignment: \")\n",
    "    assignment_list.append(assignment)\n",
    "    \n",
    "    time_list = []\n",
    "    time = float(input(\"Please enter the time the assignment took in hours ex: 1, 1.5, etc: \"))\n",
    "    time_list.append(time)\n",
    "    \n",
    "    grade_list = []\n",
    "    grade = input(\"Please enter what grade you received: \")\n",
    "    grade_list.append(grade)\n",
    "    \n",
    "if path == \"existing assignment\":\n",
    "    \n",
    "\n",
    "    #if path == \"existing assignment\":\n",
    "if path == \"quit\":\n",
    "    print(\"Thank you for using our program.\")\n",
    "    print (assignment_list)\n",
    "    print (time_list)\n",
    "    print (subject_list)\n",
    "    \n",
    "    #except:\n",
    "        #value error\n",
    "        #type error\n"
   ]
  }
 ],
 "metadata": {
  "kernelspec": {
   "display_name": "Python 3",
   "language": "python",
   "name": "python3"
  },
  "language_info": {
   "codemirror_mode": {
    "name": "ipython",
    "version": 3
   },
   "file_extension": ".py",
   "mimetype": "text/x-python",
   "name": "python",
   "nbconvert_exporter": "python",
   "pygments_lexer": "ipython3",
   "version": "3.6.3"
  }
 },
 "nbformat": 4,
 "nbformat_minor": 2
}
