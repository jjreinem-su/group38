{
 "cells": [
  {
   "cell_type": "code",
   "execution_count": 3,
   "metadata": {},
   "outputs": [
    {
     "name": "stdout",
     "output_type": "stream",
     "text": [
      "Please enter 'new assignment' or 'existing assignment' or 'quit': new assignment\n",
      "please enter the subject: math\n",
      "Please enter the type of assignment: no\n",
      "Please enter the time the assignment took in hours ex: 1, 1.5, etc : 2\n",
      "Please enter the time the assignment took in hours ex: 1, 1.5, etc : 2\n",
      "Please enter the time the assignment took in hours ex: 1, 1.5, etc : 2\n",
      "Please enter the time the assignment took in hours ex: 1, 1.5, etc : 22\n",
      "Please enter the time the assignment took in hours ex: 1, 1.5, etc : 2\n",
      "Please enter the time the assignment took in hours ex: 1, 1.5, etc : 2\n",
      "Please enter the time the assignment took in hours ex: 1, 1.5, etc : 2\n",
      "Please enter the time the assignment took in hours ex: 1, 1.5, etc : \n"
     ]
    },
    {
     "ename": "ValueError",
     "evalue": "could not convert string to float: ",
     "output_type": "error",
     "traceback": [
      "\u001b[0;31m---------------------------------------------------------------------------\u001b[0m",
      "\u001b[0;31mValueError\u001b[0m                                Traceback (most recent call last)",
      "\u001b[0;32m<ipython-input-3-9599dacfa42a>\u001b[0m in \u001b[0;36m<module>\u001b[0;34m()\u001b[0m\n\u001b[1;32m     10\u001b[0m     \u001b[0;32mwhile\u001b[0m \u001b[0;32mTrue\u001b[0m\u001b[0;34m:\u001b[0m\u001b[0;34m\u001b[0m\u001b[0m\n\u001b[1;32m     11\u001b[0m         \u001b[0mtime_list\u001b[0m \u001b[0;34m=\u001b[0m \u001b[0;34m[\u001b[0m\u001b[0;34m]\u001b[0m\u001b[0;34m\u001b[0m\u001b[0m\n\u001b[0;32m---> 12\u001b[0;31m         \u001b[0mtime\u001b[0m \u001b[0;34m=\u001b[0m \u001b[0mfloat\u001b[0m\u001b[0;34m(\u001b[0m\u001b[0minput\u001b[0m\u001b[0;34m(\u001b[0m\u001b[0;34m\"Please enter the time the assignment took in hours ex: 1, 1.5, etc : \"\u001b[0m\u001b[0;34m)\u001b[0m\u001b[0;34m)\u001b[0m\u001b[0;34m\u001b[0m\u001b[0m\n\u001b[0m\u001b[1;32m     13\u001b[0m         \u001b[0mtime_list\u001b[0m\u001b[0;34m.\u001b[0m\u001b[0mappend\u001b[0m\u001b[0;34m(\u001b[0m\u001b[0mtime\u001b[0m\u001b[0;34m)\u001b[0m\u001b[0;34m\u001b[0m\u001b[0m\n",
      "\u001b[0;31mValueError\u001b[0m: could not convert string to float: "
     ]
    }
   ],
   "source": [
    "#enter a welcome thing\n",
    "import pandas as pd\n",
    "path = input(\"Please enter 'new assignment' or 'existing assignment' or 'quit': \")\n",
    "if path == \"new assignment\":\n",
    "    subject_list = []\n",
    "    subject = input(\"please enter the subject: \")\n",
    "    subject_list.append(subject)\n",
    "    assignment_list = []\n",
    "    assignment = input(\"Please enter the type of assignment: \")\n",
    "    assignment_list.append(assignment)\n",
    "    time_list = []\n",
    "    time = float(input(\"Please enter the time the assignment took in hours ex: 1, 1.5, etc : \"))\n",
    "    time_list.append(time)\n",
    "    break\n",
    "if path == \"existing assignment\":\n",
    "    "
   ]
  },
  {
   "cell_type": "markdown",
   "metadata": {},
   "source": [
    "2\n",
    "22## time is going to be the last input for new assignments . asks to enter how long it took once youre done\n",
    "when you input existing assignment, prints out how long the assignment has taken before, and then asks how long it took this time,\n",
    "dataframe comparing the two. make cap sensitive"
   ]
  }
 ],
 "metadata": {
  "kernelspec": {
   "display_name": "Python 3",
   "language": "python",
   "name": "python3"
  },
  "language_info": {
   "codemirror_mode": {
    "name": "ipython",
    "version": 3
   },
   "file_extension": ".py",
   "mimetype": "text/x-python",
   "name": "python",
   "nbconvert_exporter": "python",
   "pygments_lexer": "ipython3",
   "version": "3.6.3"
  }
 },
 "nbformat": 4,
 "nbformat_minor": 2
}
